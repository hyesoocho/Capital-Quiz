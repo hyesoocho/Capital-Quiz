{
 "cells": [
  {
   "cell_type": "code",
   "execution_count": 4,
   "metadata": {
    "collapsed": true
   },
   "outputs": [],
   "source": [
    "import pymysql"
   ]
  },
  {
   "cell_type": "markdown",
   "metadata": {},
   "source": [
    "create table test.state_capital (\n",
    "    state varchar(32),\n",
    "    capital varchar(64)\n",
    ");\n",
    "\n",
    "insert into test.state_capital value (\"California\", \"Sacramento\");\n",
    "insert into test.state_capital value (\"Nevada\", \"Carson City\");\n",
    "insert into test.state_capital value (\"Washington\", \"Olympia\");"
   ]
  },
  {
   "cell_type": "code",
   "execution_count": 5,
   "metadata": {
    "collapsed": true
   },
   "outputs": [],
   "source": [
    "def get_state_capital():\n",
    "    sc = {}\n",
    "    conn=pymysql.connect(host='localhost', user='root', password='', db='test', charset='utf8')\n",
    "    curs=conn.cursor()\n",
    "    sql=\"select state,capital from state_capital\"\n",
    "    curs.execute(sql)\n",
    "    rows = curs.fetchall()\n",
    "    for row in rows:\n",
    "        state = row[0]\n",
    "        capital = row[1]\n",
    "        sc[state] = capital\n",
    "    return sc"
   ]
  },
  {
   "cell_type": "code",
   "execution_count": 6,
   "metadata": {},
   "outputs": [
    {
     "name": "stdout",
     "output_type": "stream",
     "text": [
      "Welcome to State Quiz!\n",
      "What is the capital of California?Sacramento\n",
      "Good job!\n",
      "You have 1 point(s).\n",
      "\n",
      "\n",
      "What is the capital of Nevada?Carson City\n",
      "Good job!\n",
      "You have 2 point(s).\n",
      "\n",
      "\n",
      "What is the capital of Washington?olympia\n",
      "Good job!\n",
      "You have 3 point(s).\n",
      "\n",
      "\n"
     ]
    }
   ],
   "source": [
    "def get_and_check_answer(state, real_answer):\n",
    "    user_answer = input(\"What is the capital of \" + state + \"?\")\n",
    "    if (real_answer.upper() == user_answer.upper()):\n",
    "        return True\n",
    "    else:\n",
    "        return False\n",
    "\n",
    "def display_point(point):\n",
    "    print(\"You have \" + str(point) + \" point(s).\")\n",
    "\n",
    "print(\"Welcome to State Quiz!\")\n",
    "correct = 0\n",
    "\n",
    "state_capital = get_state_capital()\n",
    "\n",
    "for state, capital in state_capital.items():\n",
    "    if get_and_check_answer(state, capital):\n",
    "        correct = correct + 1\n",
    "        print(\"Good job!\")\n",
    "    else:\n",
    "        print(\"Incorrect. The answer is \" + capital + \".\")\n",
    "    display_point(correct)\n",
    "    print (\"\\n\")"
   ]
  },
  {
   "cell_type": "code",
   "execution_count": null,
   "metadata": {
    "collapsed": true
   },
   "outputs": [],
   "source": []
  }
 ],
 "metadata": {
  "kernelspec": {
   "display_name": "Python 3",
   "language": "python",
   "name": "python3"
  },
  "language_info": {
   "codemirror_mode": {
    "name": "ipython",
    "version": 3
   },
   "file_extension": ".py",
   "mimetype": "text/x-python",
   "name": "python",
   "nbconvert_exporter": "python",
   "pygments_lexer": "ipython3",
   "version": "3.6.3"
  }
 },
 "nbformat": 4,
 "nbformat_minor": 2
}
