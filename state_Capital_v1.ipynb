{
 "cells": [
  {
   "cell_type": "code",
   "execution_count": 1,
   "metadata": {},
   "outputs": [
    {
     "name": "stdout",
     "output_type": "stream",
     "text": [
      "Welcome to State Quiz!\n",
      "What is the capital of California?SACRAMENTO\n",
      "Good job!\n",
      "You have 1 point(s).\n",
      "What is the capital of Nevada?carson city\n",
      "Good job!\n",
      "You have 2 point(s).\n",
      "What is the capital of Washington?olympiaa\n",
      "Incorrect. The answer is Olympia.\n",
      "You have 2 point(s).\n"
     ]
    }
   ],
   "source": [
    "print(\"Welcome to State Quiz!\")\n",
    "correct=0\n",
    "\n",
    "def get_and_check_answer(state, real_answer):\n",
    "    user_answer=input(\"What is the capital of \"+ state + \"?\")\n",
    "    if (real_answer.upper()==user_answer.upper()):\n",
    "        return True\n",
    "    else:\n",
    "        return False\n",
    "    \n",
    "def display_point(point):\n",
    "    print(\"You have \" + str(point)+ \" point(s).\")\n",
    "    \n",
    "if get_and_check_answer (\"California\",\"Sacramento\"):\n",
    "    correct=correct+1\n",
    "    print(\"Good job!\")\n",
    "else: \n",
    "    print(\"Incorrect. The answer is Sacramento.\")\n",
    "display_point(correct)\n",
    "\n",
    "if get_and_check_answer (\"Nevada\",\"Carson City\"):\n",
    "    correct=correct+1\n",
    "    print(\"Good job!\")\n",
    "else: \n",
    "    print(\"Incorrect. The answer is Carson City.\")\n",
    "display_point(correct)\n",
    "\n",
    "if get_and_check_answer (\"Washington\", \"Olympia\"):\n",
    "    correct=correct+1\n",
    "    print(\"Good job!\")\n",
    "else: \n",
    "    print(\"Incorrect. The answer is Olympia.\")\n",
    "display_point(correct)"
   ]
  },
  {
   "cell_type": "code",
   "execution_count": null,
   "metadata": {
    "collapsed": true
   },
   "outputs": [],
   "source": []
  }
 ],
 "metadata": {
  "kernelspec": {
   "display_name": "Python 3",
   "language": "python",
   "name": "python3"
  },
  "language_info": {
   "codemirror_mode": {
    "name": "ipython",
    "version": 3
   },
   "file_extension": ".py",
   "mimetype": "text/x-python",
   "name": "python",
   "nbconvert_exporter": "python",
   "pygments_lexer": "ipython3",
   "version": "3.6.3"
  }
 },
 "nbformat": 4,
 "nbformat_minor": 2
}
