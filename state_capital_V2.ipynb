{
 "cells": [
  {
   "cell_type": "code",
   "execution_count": 3,
   "metadata": {},
   "outputs": [
    {
     "name": "stdout",
     "output_type": "stream",
     "text": [
      "Welcome to State Quiz!\n"
     ]
    }
   ],
   "source": [
    "print(\"Welcome to State Quiz!\")\n",
    "correct=0\n",
    "def get_and_check_answer(state, real_answer):\n",
    "    user_answer=input(\"What is the capital of \" + state +\"?\")\n",
    "    if (real_answer.upper()==user_answer.upper()):\n",
    "        return True\n",
    "    else:\n",
    "        return False\n",
    "    \n",
    "def display_point(point):\n",
    "    print(\"You have \" + str(point) + \" point(s).\")"
   ]
  },
  {
   "cell_type": "code",
   "execution_count": 4,
   "metadata": {},
   "outputs": [
    {
     "name": "stdout",
     "output_type": "stream",
     "text": [
      "What is the capital of California?scaramento;\n",
      "Incorrect. The answer is Sacarmento.\n",
      "You have 0 point(s).\n",
      "\n",
      "\n",
      "What is the capital of Nevada?carsoncity\n",
      "Incorrect. The answer is Carson City.\n",
      "You have 0 point(s).\n",
      "\n",
      "\n",
      "What is the capital of Washington?olympia\n",
      "Good job!\n",
      "You have 1 point(s).\n",
      "\n",
      "\n"
     ]
    }
   ],
   "source": [
    "states= [\"California\", \"Nevada\", \"Washington\" ]\n",
    "capitals = [\"Sacarmento\", \"Carson City\", \"Olympia\"]\n",
    "index = 0\n",
    "\n",
    "while (index < len(states)):\n",
    "    state = states[index]\n",
    "    capital = capitals[index]\n",
    "    if get_and_check_answer (state,capital):\n",
    "        correct = correct + 1\n",
    "        print(\"Good job!\")\n",
    "    else: \n",
    "        print(\"Incorrect. The answer is \" + capital + \".\")\n",
    "    display_point(correct)\n",
    "    index=index+1\n",
    "    print (\"\\n\")"
   ]
  },
  {
   "cell_type": "code",
   "execution_count": null,
   "metadata": {
    "collapsed": true
   },
   "outputs": [],
   "source": []
  }
 ],
 "metadata": {
  "kernelspec": {
   "display_name": "Python 3",
   "language": "python",
   "name": "python3"
  },
  "language_info": {
   "codemirror_mode": {
    "name": "ipython",
    "version": 3
   },
   "file_extension": ".py",
   "mimetype": "text/x-python",
   "name": "python",
   "nbconvert_exporter": "python",
   "pygments_lexer": "ipython3",
   "version": "3.6.3"
  }
 },
 "nbformat": 4,
 "nbformat_minor": 2
}
