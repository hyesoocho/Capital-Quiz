{
 "cells": [
  {
   "cell_type": "code",
   "execution_count": 11,
   "metadata": {
    "collapsed": true
   },
   "outputs": [],
   "source": [
    "import pymysql"
   ]
  },
  {
   "cell_type": "markdown",
   "metadata": {},
   "source": [
    "create table country_capital (\n",
    "country varchar(20),\n",
    "capital varccountry_capitalhar(20)\n",
    ");\n",
    "\n",
    "insert into test.country_capital value (\"South Korea\", \"Seoul\");\n",
    "insert into test.country_capital value (\"Japan\", \"Tokyo\");\n",
    "insert into test.country_capital value (\"China\", \"Beijing\");\n"
   ]
  },
  {
   "cell_type": "code",
   "execution_count": 14,
   "metadata": {
    "collapsed": true
   },
   "outputs": [],
   "source": [
    "def get_country_capital():\n",
    "    sc = {}\n",
    "    conn=pymysql.connect(host='localhost', user='root', password='', db='test', charset='utf8')\n",
    "    curs=conn.cursor()\n",
    "    sql=\"select country,capital from country_capital\"\n",
    "    curs.execute(sql)\n",
    "    rows = curs.fetchall()\n",
    "    for row in rows:\n",
    "        country = row[0]\n",
    "        capital = row[1]\n",
    "        sc[country] = capital\n",
    "    return sc"
   ]
  },
  {
   "cell_type": "code",
   "execution_count": 15,
   "metadata": {},
   "outputs": [
    {
     "name": "stdout",
     "output_type": "stream",
     "text": [
      "Welcome to Country Quiz!\n",
      "What is the capital of South Korea?seoul\n",
      "Good job!\n",
      "You have 1 point(s).\n",
      "\n",
      "\n",
      "What is the capital of Japan?tokyo\n",
      "Good job!\n",
      "You have 2 point(s).\n",
      "\n",
      "\n",
      "What is the capital of China?beijing\n",
      "Good job!\n",
      "You have 3 point(s).\n",
      "\n",
      "\n"
     ]
    }
   ],
   "source": [
    "def get_and_check_answer(country, real_answer):\n",
    "    user_answer = input(\"What is the capital of \" + country + \"?\")\n",
    "    if (real_answer.upper() == user_answer.upper()):\n",
    "        return True\n",
    "    else:\n",
    "        return False\n",
    "\n",
    "def display_point(point):\n",
    "    print(\"You have \" + str(point) + \" point(s).\")\n",
    "\n",
    "print(\"Welcome to Country Quiz!\")\n",
    "correct = 0\n",
    "\n",
    "country_capital = get_country_capital()\n",
    "\n",
    "for country, capital in country_capital.items():\n",
    "    if get_and_check_answer(country, capital):\n",
    "        correct = correct + 1\n",
    "        print(\"Good job!\")\n",
    "    else:\n",
    "        print(\"Incorrect. The answer is \" + capital + \".\")\n",
    "    display_point(correct)\n",
    "    print (\"\\n\")"
   ]
  },
  {
   "cell_type": "code",
   "execution_count": null,
   "metadata": {
    "collapsed": true
   },
   "outputs": [],
   "source": []
  },
  {
   "cell_type": "code",
   "execution_count": null,
   "metadata": {
    "collapsed": true
   },
   "outputs": [],
   "source": []
  }
 ],
 "metadata": {
  "kernelspec": {
   "display_name": "Python 3",
   "language": "python",
   "name": "python3"
  },
  "language_info": {
   "codemirror_mode": {
    "name": "ipython",
    "version": 3
   },
   "file_extension": ".py",
   "mimetype": "text/x-python",
   "name": "python",
   "nbconvert_exporter": "python",
   "pygments_lexer": "ipython3",
   "version": "3.6.3"
  }
 },
 "nbformat": 4,
 "nbformat_minor": 2
}
